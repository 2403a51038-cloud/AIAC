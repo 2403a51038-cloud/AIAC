{
  "nbformat": 4,
  "nbformat_minor": 0,
  "metadata": {
    "colab": {
      "provenance": [],
      "authorship_tag": "ABX9TyPRA8TV5nYh35E9GaWHxJ1+",
      "include_colab_link": true
    },
    "kernelspec": {
      "name": "python3",
      "display_name": "Python 3"
    },
    "language_info": {
      "name": "python"
    }
  },
  "cells": [
    {
      "cell_type": "markdown",
      "metadata": {
        "id": "view-in-github",
        "colab_type": "text"
      },
      "source": [
        "<a href=\"https://colab.research.google.com/github/2403a51038-cloud/AIAC/blob/main/Lab2_3.ipynb\" target=\"_parent\"><img src=\"https://colab.research.google.com/assets/colab-badge.svg\" alt=\"Open In Colab\"/></a>"
      ]
    },
    {
      "cell_type": "markdown",
      "source": [
        "Task Description#1\n",
        "●\tUse Google Gemini in Colab to write a function that reads a CSV file and calculates mean, min, max.\n",
        "Expected Output#1\n",
        "●\tFunctional code with output and screenshot\n",
        "\n"
      ],
      "metadata": {
        "id": "K7CSws_bcIJz"
      }
    },
    {
      "cell_type": "code",
      "metadata": {
        "colab": {
          "base_uri": "https://localhost:8080/"
        },
        "id": "dfb957b2",
        "outputId": "04a4b5dd-cce5-4d4a-8be4-45c04b6ff166"
      },
      "source": [
        "import pandas as pd\n",
        "\n",
        "def analyze_csv_column(csv_filepath, column_name):\n",
        "  \"\"\"\n",
        "  Reads a CSV file, calculates the mean, minimum, and maximum of a specified column.\n",
        "\n",
        "  Args:\n",
        "    csv_filepath (str): The path to the CSV file.\n",
        "    column_name (str): The name of the column to analyze.\n",
        "\n",
        "  Returns:\n",
        "    tuple: A tuple containing the mean, minimum, and maximum values of the column.\n",
        "           Returns (None, None, None) if the column is not found or an error occurs.\n",
        "  \"\"\"\n",
        "  try:\n",
        "    df = pd.read_csv(csv_filepath)\n",
        "    if column_name not in df.columns:\n",
        "      print(f\"Column '{column_name}' not found in the CSV.\")\n",
        "      return None, None, None\n",
        "\n",
        "    column_data = df[column_name]\n",
        "    mean_value = column_data.mean()\n",
        "    min_value = column_data.min()\n",
        "    max_value = column_data.max()\n",
        "\n",
        "    return mean_value, min_value, max_value\n",
        "\n",
        "  except FileNotFoundError:\n",
        "    print(f\"Error: CSV file not found at '{csv_filepath}'\")\n",
        "    return None, None, None\n",
        "  except Exception as e:\n",
        "    print(f\"An error occurred: {e}\")\n",
        "    return None, None, None\n",
        "\n",
        "dummy_csv_path = '/content/Extension.CSV'\n",
        "\n",
        "# Analyze a column in the dummy CSV\n",
        "mean, min_val, max_val = analyze_csv_column(dummy_csv_path, 'Roll no')\n",
        "\n",
        "if mean is not None:\n",
        "  print(f\"Analysis of 'col1' in '{dummy_csv_path}':\")\n",
        "  print(f\"Mean: {mean}\")\n",
        "  print(f\"Minimum: {min_val}\")\n",
        "  print(f\"Maximum: {max_val}\")\n",
        "\n",
        "\n"
      ],
      "execution_count": 5,
      "outputs": [
        {
          "output_type": "stream",
          "name": "stdout",
          "text": [
            "Analysis of 'col1' in '/content/Extension.CSV':\n",
            "Mean: 1285.25\n",
            "Minimum: 1038\n",
            "Maximum: 2020\n"
          ]
        }
      ]
    },
    {
      "cell_type": "markdown",
      "source": [
        "Task Description#2\n",
        "●\tCompare Gemini and Copilot outputs for a palindrome check function.\n",
        "Expected Output#2\n",
        "●\tSide-by-side comparison and observations\n"
      ],
      "metadata": {
        "id": "GLxCpGSXowvh"
      }
    },
    {
      "cell_type": "code",
      "source": [
        "def is_palindrome(text):\n",
        "  \"\"\"\n",
        "  Checks if a given string is a palindrome.\n",
        "\n",
        "  Args:\n",
        "    text (str): The input string to check.\n",
        "\n",
        "  Returns:\n",
        "    bool: True if the string is a palindrome, False otherwise.\n",
        "  \"\"\"\n",
        "  # Remove spaces and convert to lowercase for case-insensitive comparison\n",
        "  cleaned_text = text.replace(\" \", \"\").lower()\n",
        "  return cleaned_text == cleaned_text[::-1]\n",
        "\n",
        "# Example usage:\n",
        "user_input = input(\"Enter a string to check if it's a palindrome: \")\n",
        "\n",
        "if is_palindrome(user_input):\n",
        "  print(f\"'{user_input}' is a palindrome.\")\n",
        "else:\n",
        "  print(f\"'{user_input}' is not a palindrome.\")"
      ],
      "metadata": {
        "colab": {
          "base_uri": "https://localhost:8080/"
        },
        "id": "1vwsdq-UpCvl",
        "outputId": "92f0897c-7bcc-4d79-b2cb-fe8b8ddcbd82"
      },
      "execution_count": 6,
      "outputs": [
        {
          "output_type": "stream",
          "name": "stdout",
          "text": [
            "Enter a string to check if it's a palindrome: 141\n",
            "'141' is a palindrome.\n"
          ]
        }
      ]
    },
    {
      "cell_type": "markdown",
      "source": [
        "Task Description#3\n",
        "●\tAsk Gemini to explain a Python function (to calculate area of various shapes) line by line..\n",
        "Expected Output#3\n",
        "●\tDetailed explanation with code snippet\n"
      ],
      "metadata": {
        "id": "d1ucDWaHqX2u"
      }
    },
    {
      "cell_type": "code",
      "source": [
        "import math\n",
        "\n",
        "def calculate_area(shape, dimensions):\n",
        "  \"\"\"\n",
        "  Calculates the area of various shapes based on user input.\n",
        "\n",
        "  Args:\n",
        "    shape (str): The name of the shape (e.g., 'circle', 'square', 'rectangle').\n",
        "    dimensions (tuple or list): A tuple or list containing the dimensions required for the shape's area calculation.\n",
        "\n",
        "  Returns:\n",
        "    float or None: The calculated area of the shape, or None if the shape is not supported or dimensions are invalid.\n",
        "  \"\"\"\n",
        "  shape = shape.lower()\n",
        "\n",
        "  if shape == 'circle':\n",
        "    if len(dimensions) == 1:\n",
        "      radius = dimensions[0]\n",
        "      return math.pi * (radius ** 2)\n",
        "    else:\n",
        "      print(\"Invalid dimensions for a circle. Please provide the radius.\")\n",
        "      return None\n",
        "  elif shape == 'square':\n",
        "    if len(dimensions) == 1:\n",
        "      side = dimensions[0]\n",
        "      return side ** 2\n",
        "    else:\n",
        "      print(\"Invalid dimensions for a square. Please provide the side length.\")\n",
        "      return None\n",
        "  elif shape == 'rectangle':\n",
        "    if len(dimensions) == 2:\n",
        "      length = dimensions[0]\n",
        "      width = dimensions[1]\n",
        "      return length * width\n",
        "    else:\n",
        "      print(\"Invalid dimensions for a rectangle. Please provide length and width.\")\n",
        "      return None\n",
        "  else:\n",
        "    print(f\"Shape '{shape}' is not supported.\")\n",
        "    return None\n",
        "\n",
        "# Example usage:\n",
        "shape_input = input(\"Enter the shape (circle, square, rectangle): \").lower()\n",
        "\n",
        "if shape_input == 'circle':\n",
        "  try:\n",
        "    radius = float(input(\"Enter the radius: \"))\n",
        "    dimensions_input = (radius,)\n",
        "  except ValueError:\n",
        "    print(\"Invalid input for radius. Please enter a number.\")\n",
        "    dimensions_input = None\n",
        "\n",
        "elif shape_input == 'square':\n",
        "  try:\n",
        "    side = float(input(\"Enter the side length: \"))\n",
        "    dimensions_input = (side,)\n",
        "  except ValueError:\n",
        "    print(\"Invalid input for side length. Please enter a number.\")\n",
        "    dimensions_input = None\n",
        "\n",
        "elif shape_input == 'rectangle':\n",
        "  try:\n",
        "    length = float(input(\"Enter the length: \"))\n",
        "    width = float(input(\"Enter the width: \"))\n",
        "    dimensions_input = (length, width)\n",
        "  except ValueError:\n",
        "    print(\"Invalid input for length or width. Please enter numbers.\")\n",
        "    dimensions_input = None\n",
        "else:\n",
        "  dimensions_input = None # Unsupported shape\n",
        "\n",
        "if dimensions_input is not None:\n",
        "  area = calculate_area(shape_input, dimensions_input)\n",
        "\n",
        "  if area is not None:\n",
        "    print(f\"The area of the {shape_input} is: {area}\")"
      ],
      "metadata": {
        "colab": {
          "base_uri": "https://localhost:8080/"
        },
        "id": "EerOzb4fLmH9",
        "outputId": "854bcff5-c37e-4ed6-920f-763c6aca4500"
      },
      "execution_count": 6,
      "outputs": [
        {
          "output_type": "stream",
          "name": "stdout",
          "text": [
            "Enter the shape (circle, square, rectangle): square\n",
            "Enter the side length: 2\n",
            "The area of the square is: 4.0\n"
          ]
        }
      ]
    },
    {
      "cell_type": "markdown",
      "source": [
        "Task Description#5\n",
        "●\tStudent need to write code to calculate sum of add number and even numbers in the list\n",
        "Expected Output#5\n",
        "●\tRefactored code written by student with improved logic\n",
        "\n"
      ],
      "metadata": {
        "id": "TzmhQtOEMLVq"
      }
    },
    {
      "cell_type": "code",
      "source": [
        "def sum_even_odd(numbers):\n",
        "  \"\"\"\n",
        "  Calculates the sum of even and odd numbers in a list.\n",
        "\n",
        "  Args:\n",
        "    numbers (list): A list of numbers.\n",
        "\n",
        "  Returns:\n",
        "    tuple: A tuple containing the sum of even numbers and the sum of odd numbers.\n",
        "  \"\"\"\n",
        "  even_sum = 0\n",
        "  odd_sum = 0\n",
        "  for number in numbers:\n",
        "    if number % 2 == 0:\n",
        "      even_sum += number\n",
        "    else:\n",
        "      odd_sum += number\n",
        "  return even_sum, odd_sum\n",
        "\n",
        "# Example usage:\n",
        "my_list = [1, 2, 3, 4, 5, 6, 7, 8, 9, 10]\n",
        "even_total, odd_total = sum_even_odd(my_list)\n",
        "\n",
        "print(f\"Original list: {my_list}\")\n",
        "print(f\"Sum of even numbers: {even_total}\")\n",
        "print(f\"Sum of odd numbers: {odd_total}\")"
      ],
      "metadata": {
        "colab": {
          "base_uri": "https://localhost:8080/"
        },
        "id": "daUUbhqFMQRR",
        "outputId": "e7934afb-7ed1-471d-883b-b3eba0782cc4"
      },
      "execution_count": 7,
      "outputs": [
        {
          "output_type": "stream",
          "name": "stdout",
          "text": [
            "Original list: [1, 2, 3, 4, 5, 6, 7, 8, 9, 10]\n",
            "Sum of even numbers: 30\n",
            "Sum of odd numbers: 25\n"
          ]
        }
      ]
    }
  ]
}