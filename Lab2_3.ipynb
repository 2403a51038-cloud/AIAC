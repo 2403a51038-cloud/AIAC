{
  "nbformat": 4,
  "nbformat_minor": 0,
  "metadata": {
    "colab": {
      "provenance": [],
      "authorship_tag": "ABX9TyO+1LtYyMeo5AVdcRSJ12rC",
      "include_colab_link": true
    },
    "kernelspec": {
      "name": "python3",
      "display_name": "Python 3"
    },
    "language_info": {
      "name": "python"
    }
  },
  "cells": [
    {
      "cell_type": "markdown",
      "metadata": {
        "id": "view-in-github",
        "colab_type": "text"
      },
      "source": [
        "<a href=\"https://colab.research.google.com/github/2403a51038-cloud/AIAC/blob/main/Lab2_3.ipynb\" target=\"_parent\"><img src=\"https://colab.research.google.com/assets/colab-badge.svg\" alt=\"Open In Colab\"/></a>"
      ]
    },
    {
      "cell_type": "markdown",
      "source": [
        "Task Description#1\n",
        "●\tUse Google Gemini in Colab to write a function that reads a CSV file and calculates mean, min, max.\n",
        "Expected Output#1\n",
        "●\tFunctional code with output and screenshot\n",
        "\n"
      ],
      "metadata": {
        "id": "K7CSws_bcIJz"
      }
    },
    {
      "cell_type": "code",
      "metadata": {
        "colab": {
          "base_uri": "https://localhost:8080/"
        },
        "id": "dfb957b2",
        "outputId": "081e7ac2-db1d-4745-ba0a-e89d05e42f8d"
      },
      "source": [
        "import pandas as pd\n",
        "\n",
        "def analyze_csv_column(csv_filepath, column_name):\n",
        "  \"\"\"\n",
        "  Reads a CSV file, calculates the mean, minimum, and maximum of a specified column.\n",
        "\n",
        "  Args:\n",
        "    csv_filepath (str): The path to the CSV file.\n",
        "    column_name (str): The name of the column to analyze.\n",
        "\n",
        "  Returns:\n",
        "    tuple: A tuple containing the mean, minimum, and maximum values of the column.\n",
        "           Returns (None, None, None) if the column is not found or an error occurs.\n",
        "  \"\"\"\n",
        "  try:\n",
        "    df = pd.read_csv(csv_filepath)\n",
        "    if column_name not in df.columns:\n",
        "      print(f\"Column '{column_name}' not found in the CSV.\")\n",
        "      return None, None, None\n",
        "\n",
        "    column_data = df[column_name]\n",
        "    mean_value = column_data.mean()\n",
        "    min_value = column_data.min()\n",
        "    max_value = column_data.max()\n",
        "\n",
        "    return mean_value, min_value, max_value\n",
        "\n",
        "  except FileNotFoundError:\n",
        "    print(f\"Error: CSV file not found at '{csv_filepath}'\")\n",
        "    return None, None, None\n",
        "  except Exception as e:\n",
        "    print(f\"An error occurred: {e}\")\n",
        "    return None, None, None\n",
        "\n",
        "dummy_csv_path = '/content/Extension.CSV'\n",
        "\n",
        "# Analyze a column in the dummy CSV\n",
        "mean, min_val, max_val = analyze_csv_column(dummy_csv_path, 'Roll no')\n",
        "\n",
        "if mean is not None:\n",
        "  print(f\"Analysis of 'col1' in '{dummy_csv_path}':\")\n",
        "  print(f\"Mean: {mean}\")\n",
        "  print(f\"Minimum: {min_val}\")\n",
        "  print(f\"Maximum: {max_val}\")\n",
        "\n",
        "# Clean up the dummy file\n",
        "import os\n",
        "os.remove(dummy_csv_path)"
      ],
      "execution_count": 1,
      "outputs": [
        {
          "output_type": "stream",
          "name": "stdout",
          "text": [
            "Analysis of 'col1' in '/content/Extension.CSV':\n",
            "Mean: 1285.25\n",
            "Minimum: 1038\n",
            "Maximum: 2020\n"
          ]
        }
      ]
    },
    {
      "cell_type": "markdown",
      "source": [
        "Task Description#2\n",
        "●\tCompare Gemini and Copilot outputs for a palindrome check function.\n",
        "Expected Output#2\n",
        "●\tSide-by-side comparison and observations\n"
      ],
      "metadata": {
        "id": "PMGkDuK9jQOh"
      }
    },
    {
      "cell_type": "code",
      "source": [],
      "metadata": {
        "id": "AsKsQ74ajEWz"
      },
      "execution_count": null,
      "outputs": []
    }
  ]
}